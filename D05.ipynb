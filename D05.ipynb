{
 "cells": [
  {
   "cell_type": "code",
   "execution_count": 1,
   "metadata": {},
   "outputs": [],
   "source": [
    "import numpy as np\n",
    "english_score = np.array([55,89,76,65,48,70])\n",
    "math_score = np.array([60,85,60,68,np.nan,60])\n",
    "chinese_score = np.array([65,90,82,72,66,77])"
   ]
  },
  {
   "cell_type": "code",
   "execution_count": 2,
   "metadata": {},
   "outputs": [
    {
     "name": "stdout",
     "output_type": "stream",
     "text": [
      "英文的平均： 67.16666666666667 最大值： 89 最小值： 48 標準差： 13.433995020924426\n",
      "數學的平均： 66.6 最大值： 85.0 最小值： 60.0 標準差： 9.707728879609279\n",
      "國文的平均： 75.33333333333333 最大值： 90 最小值： 65 標準差： 8.825468196582484\n"
     ]
    }
   ],
   "source": [
    "english_mean = np.mean(english_score)\n",
    "english_amax = np.amax(english_score)\n",
    "english_amin = np.amin(english_score)\n",
    "english_std = np.std(english_score)\n",
    "print(\"英文的平均：\", english_mean,\"最大值：\",english_amax,\"最小值：\",english_amin,\"標準差：\",english_std)\n",
    "math_mean = np.nanmean(math_score)\n",
    "math_amax = np.nanmax(math_score)\n",
    "math_amin = np.nanmin(math_score)\n",
    "math_std = np.nanstd(math_score)\n",
    "print(\"數學的平均：\", math_mean,\"最大值：\",math_amax,\"最小值：\",math_amin,\"標準差：\",math_std)\n",
    "chinese_mean = np.mean(chinese_score)\n",
    "chinese_amax = np.amax(chinese_score)\n",
    "chinese_amin = np.amin(chinese_score)\n",
    "chinese_std = np.std(chinese_score)\n",
    "print(\"國文的平均：\", chinese_mean,\"最大值：\",chinese_amax,\"最小值：\",chinese_amin,\"標準差：\",chinese_std)"
   ]
  },
  {
   "cell_type": "code",
   "execution_count": 3,
   "metadata": {},
   "outputs": [
    {
     "name": "stdout",
     "output_type": "stream",
     "text": [
      "數學的平均： 64.66666666666667 最大值： 85 最小值： 55 標準差： 9.860132971832694\n"
     ]
    }
   ],
   "source": [
    "math_score = np.array([60,85,60,68,55,60])\n",
    "math_mean = np.mean(math_score)\n",
    "math_amax = np.amax(math_score)\n",
    "math_amin = np.amin(math_score)\n",
    "math_std = np.std(math_score)\n",
    "print(\"數學的平均：\", math_mean,\"最大值：\",math_amax,\"最小值：\",math_amin,\"標準差：\",math_std)"
   ]
  },
  {
   "cell_type": "code",
   "execution_count": 4,
   "metadata": {},
   "outputs": [
    {
     "data": {
      "text/plain": [
       "array([[1.        , 0.97792828],\n",
       "       [0.97792828, 1.        ]])"
      ]
     },
     "execution_count": 4,
     "metadata": {},
     "output_type": "execute_result"
    }
   ],
   "source": [
    "chinese_english = np.vstack((chinese_score, english_score))\n",
    "np.corrcoef(chinese_english)"
   ]
  },
  {
   "cell_type": "code",
   "execution_count": 5,
   "metadata": {},
   "outputs": [
    {
     "data": {
      "text/plain": [
       "array([[1.        , 0.74056803],\n",
       "       [0.74056803, 1.        ]])"
      ]
     },
     "execution_count": 5,
     "metadata": {},
     "output_type": "execute_result"
    }
   ],
   "source": [
    "chinese_math = np.vstack((chinese_score, math_score))\n",
    "np.corrcoef(chinese_math)"
   ]
  },
  {
   "cell_type": "code",
   "execution_count": 6,
   "metadata": {},
   "outputs": [
    {
     "name": "stdout",
     "output_type": "stream",
     "text": [
      "關係數最高：英文\n"
     ]
    }
   ],
   "source": [
    "print(\"關係數最高：英文\")"
   ]
  },
  {
   "cell_type": "code",
   "execution_count": null,
   "metadata": {},
   "outputs": [],
   "source": []
  }
 ],
 "metadata": {
  "kernelspec": {
   "display_name": "Python 3",
   "language": "python",
   "name": "python3"
  },
  "language_info": {
   "codemirror_mode": {
    "name": "ipython",
    "version": 3
   },
   "file_extension": ".py",
   "mimetype": "text/x-python",
   "name": "python",
   "nbconvert_exporter": "python",
   "pygments_lexer": "ipython3",
   "version": "3.8.5"
  }
 },
 "nbformat": 4,
 "nbformat_minor": 4
}
